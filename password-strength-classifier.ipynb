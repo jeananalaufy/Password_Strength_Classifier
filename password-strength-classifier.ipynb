{
 "cells": [
  {
   "cell_type": "markdown",
   "id": "50313dd9",
   "metadata": {
    "papermill": {
     "duration": 0.004128,
     "end_time": "2024-02-05T15:02:17.668517",
     "exception": false,
     "start_time": "2024-02-05T15:02:17.664389",
     "status": "completed"
    },
    "tags": []
   },
   "source": [
    "**Importing Libraries**"
   ]
  },
  {
   "cell_type": "code",
   "execution_count": 1,
   "id": "5213dbac",
   "metadata": {
    "_cell_guid": "b1076dfc-b9ad-4769-8c92-a6c4dae69d19",
    "_uuid": "8f2839f25d086af736a60e9eeb907d3b93b6e0e5",
    "execution": {
     "iopub.execute_input": "2024-02-05T15:02:17.679012Z",
     "iopub.status.busy": "2024-02-05T15:02:17.678393Z",
     "iopub.status.idle": "2024-02-05T15:02:20.434790Z",
     "shell.execute_reply": "2024-02-05T15:02:20.433570Z"
    },
    "papermill": {
     "duration": 2.764682,
     "end_time": "2024-02-05T15:02:20.437528",
     "exception": false,
     "start_time": "2024-02-05T15:02:17.672846",
     "status": "completed"
    },
    "tags": []
   },
   "outputs": [],
   "source": [
    "import pandas as pd\n",
    "import numpy as np\n",
    "import matplotlib.pyplot as plt\n",
    "import seaborn as sns\n",
    "import string\n",
    "import warnings\n",
    "warnings.filterwarnings(\"ignore\")"
   ]
  },
  {
   "cell_type": "markdown",
   "id": "1d81a822",
   "metadata": {
    "papermill": {
     "duration": 0.004164,
     "end_time": "2024-02-05T15:02:20.446444",
     "exception": false,
     "start_time": "2024-02-05T15:02:20.442280",
     "status": "completed"
    },
    "tags": []
   },
   "source": [
    "**Load Dataset**"
   ]
  },
  {
   "cell_type": "code",
   "execution_count": 2,
   "id": "bfb7c5e6",
   "metadata": {
    "execution": {
     "iopub.execute_input": "2024-02-05T15:02:20.456286Z",
     "iopub.status.busy": "2024-02-05T15:02:20.455762Z",
     "iopub.status.idle": "2024-02-05T15:02:21.073993Z",
     "shell.execute_reply": "2024-02-05T15:02:21.072741Z"
    },
    "papermill": {
     "duration": 0.626351,
     "end_time": "2024-02-05T15:02:21.076819",
     "exception": false,
     "start_time": "2024-02-05T15:02:20.450468",
     "status": "completed"
    },
    "tags": []
   },
   "outputs": [
    {
     "data": {
      "text/html": [
       "<div>\n",
       "<style scoped>\n",
       "    .dataframe tbody tr th:only-of-type {\n",
       "        vertical-align: middle;\n",
       "    }\n",
       "\n",
       "    .dataframe tbody tr th {\n",
       "        vertical-align: top;\n",
       "    }\n",
       "\n",
       "    .dataframe thead th {\n",
       "        text-align: right;\n",
       "    }\n",
       "</style>\n",
       "<table border=\"1\" class=\"dataframe\">\n",
       "  <thead>\n",
       "    <tr style=\"text-align: right;\">\n",
       "      <th></th>\n",
       "      <th>password</th>\n",
       "      <th>strength</th>\n",
       "    </tr>\n",
       "  </thead>\n",
       "  <tbody>\n",
       "    <tr>\n",
       "      <th>0</th>\n",
       "      <td>kzde5577</td>\n",
       "      <td>1</td>\n",
       "    </tr>\n",
       "    <tr>\n",
       "      <th>1</th>\n",
       "      <td>kino3434</td>\n",
       "      <td>1</td>\n",
       "    </tr>\n",
       "    <tr>\n",
       "      <th>2</th>\n",
       "      <td>visi7k1yr</td>\n",
       "      <td>1</td>\n",
       "    </tr>\n",
       "    <tr>\n",
       "      <th>3</th>\n",
       "      <td>megzy123</td>\n",
       "      <td>1</td>\n",
       "    </tr>\n",
       "    <tr>\n",
       "      <th>4</th>\n",
       "      <td>lamborghin1</td>\n",
       "      <td>1</td>\n",
       "    </tr>\n",
       "  </tbody>\n",
       "</table>\n",
       "</div>"
      ],
      "text/plain": [
       "      password  strength\n",
       "0     kzde5577         1\n",
       "1     kino3434         1\n",
       "2    visi7k1yr         1\n",
       "3     megzy123         1\n",
       "4  lamborghin1         1"
      ]
     },
     "execution_count": 2,
     "metadata": {},
     "output_type": "execute_result"
    }
   ],
   "source": [
    "data = pd.read_csv(r\"/kaggle/input/password/data.csv\",on_bad_lines=\"skip\")\n",
    "data.head()"
   ]
  },
  {
   "cell_type": "markdown",
   "id": "4ebc6577",
   "metadata": {
    "papermill": {
     "duration": 0.0038,
     "end_time": "2024-02-05T15:02:21.084766",
     "exception": false,
     "start_time": "2024-02-05T15:02:21.080966",
     "status": "completed"
    },
    "tags": []
   },
   "source": [
    "**Identifying the unique values within the strength variable, we can see the values are:\n",
    "1: Strong strength\n",
    "2: Medium strength\n",
    "0: Low strength**\n"
   ]
  },
  {
   "cell_type": "code",
   "execution_count": 3,
   "id": "f7d69baf",
   "metadata": {
    "execution": {
     "iopub.execute_input": "2024-02-05T15:02:21.094538Z",
     "iopub.status.busy": "2024-02-05T15:02:21.094154Z",
     "iopub.status.idle": "2024-02-05T15:02:21.110611Z",
     "shell.execute_reply": "2024-02-05T15:02:21.109339Z"
    },
    "papermill": {
     "duration": 0.0248,
     "end_time": "2024-02-05T15:02:21.113719",
     "exception": false,
     "start_time": "2024-02-05T15:02:21.088919",
     "status": "completed"
    },
    "tags": []
   },
   "outputs": [
    {
     "data": {
      "text/plain": [
       "array([1, 2, 0])"
      ]
     },
     "execution_count": 3,
     "metadata": {},
     "output_type": "execute_result"
    }
   ],
   "source": [
    "data[\"strength\"].unique()"
   ]
  },
  {
   "cell_type": "markdown",
   "id": "1b7ac48c",
   "metadata": {
    "papermill": {
     "duration": 0.003776,
     "end_time": "2024-02-05T15:02:21.121543",
     "exception": false,
     "start_time": "2024-02-05T15:02:21.117767",
     "status": "completed"
    },
    "tags": []
   },
   "source": [
    "**Checking for null values within the dataset**"
   ]
  },
  {
   "cell_type": "code",
   "execution_count": 4,
   "id": "dfd4408f",
   "metadata": {
    "execution": {
     "iopub.execute_input": "2024-02-05T15:02:21.131148Z",
     "iopub.status.busy": "2024-02-05T15:02:21.130784Z",
     "iopub.status.idle": "2024-02-05T15:02:21.178141Z",
     "shell.execute_reply": "2024-02-05T15:02:21.176262Z"
    },
    "papermill": {
     "duration": 0.056012,
     "end_time": "2024-02-05T15:02:21.181626",
     "exception": false,
     "start_time": "2024-02-05T15:02:21.125614",
     "status": "completed"
    },
    "tags": []
   },
   "outputs": [
    {
     "data": {
      "text/plain": [
       "password    1\n",
       "strength    0\n",
       "dtype: int64"
      ]
     },
     "execution_count": 4,
     "metadata": {},
     "output_type": "execute_result"
    }
   ],
   "source": [
    "data.isnull().sum()"
   ]
  },
  {
   "cell_type": "code",
   "execution_count": 5,
   "id": "690ded09",
   "metadata": {
    "execution": {
     "iopub.execute_input": "2024-02-05T15:02:21.192577Z",
     "iopub.status.busy": "2024-02-05T15:02:21.192181Z",
     "iopub.status.idle": "2024-02-05T15:02:21.242663Z",
     "shell.execute_reply": "2024-02-05T15:02:21.241269Z"
    },
    "papermill": {
     "duration": 0.058429,
     "end_time": "2024-02-05T15:02:21.244986",
     "exception": false,
     "start_time": "2024-02-05T15:02:21.186557",
     "status": "completed"
    },
    "tags": []
   },
   "outputs": [
    {
     "data": {
      "text/html": [
       "<div>\n",
       "<style scoped>\n",
       "    .dataframe tbody tr th:only-of-type {\n",
       "        vertical-align: middle;\n",
       "    }\n",
       "\n",
       "    .dataframe tbody tr th {\n",
       "        vertical-align: top;\n",
       "    }\n",
       "\n",
       "    .dataframe thead th {\n",
       "        text-align: right;\n",
       "    }\n",
       "</style>\n",
       "<table border=\"1\" class=\"dataframe\">\n",
       "  <thead>\n",
       "    <tr style=\"text-align: right;\">\n",
       "      <th></th>\n",
       "      <th>password</th>\n",
       "      <th>strength</th>\n",
       "    </tr>\n",
       "  </thead>\n",
       "  <tbody>\n",
       "    <tr>\n",
       "      <th>367579</th>\n",
       "      <td>NaN</td>\n",
       "      <td>0</td>\n",
       "    </tr>\n",
       "  </tbody>\n",
       "</table>\n",
       "</div>"
      ],
      "text/plain": [
       "       password  strength\n",
       "367579      NaN         0"
      ]
     },
     "execution_count": 5,
     "metadata": {},
     "output_type": "execute_result"
    }
   ],
   "source": [
    "data[data['password'].isnull()]"
   ]
  },
  {
   "cell_type": "markdown",
   "id": "3608a437",
   "metadata": {
    "papermill": {
     "duration": 0.004157,
     "end_time": "2024-02-05T15:02:21.253560",
     "exception": false,
     "start_time": "2024-02-05T15:02:21.249403",
     "status": "completed"
    },
    "tags": []
   },
   "source": [
    "**Removing Null values:**"
   ]
  },
  {
   "cell_type": "code",
   "execution_count": 6,
   "id": "39d373a7",
   "metadata": {
    "execution": {
     "iopub.execute_input": "2024-02-05T15:02:21.264010Z",
     "iopub.status.busy": "2024-02-05T15:02:21.263442Z",
     "iopub.status.idle": "2024-02-05T15:02:21.337036Z",
     "shell.execute_reply": "2024-02-05T15:02:21.335583Z"
    },
    "papermill": {
     "duration": 0.081795,
     "end_time": "2024-02-05T15:02:21.339667",
     "exception": false,
     "start_time": "2024-02-05T15:02:21.257872",
     "status": "completed"
    },
    "tags": []
   },
   "outputs": [],
   "source": [
    "data.dropna(inplace=True)"
   ]
  },
  {
   "cell_type": "markdown",
   "id": "d3e6cd3b",
   "metadata": {
    "papermill": {
     "duration": 0.004264,
     "end_time": "2024-02-05T15:02:21.348745",
     "exception": false,
     "start_time": "2024-02-05T15:02:21.344481",
     "status": "completed"
    },
    "tags": []
   },
   "source": [
    "**Checking if all null values are removed:**"
   ]
  },
  {
   "cell_type": "markdown",
   "id": "debeb70b",
   "metadata": {
    "papermill": {
     "duration": 0.004423,
     "end_time": "2024-02-05T15:02:21.357546",
     "exception": false,
     "start_time": "2024-02-05T15:02:21.353123",
     "status": "completed"
    },
    "tags": []
   },
   "source": []
  },
  {
   "cell_type": "code",
   "execution_count": 7,
   "id": "4089c649",
   "metadata": {
    "execution": {
     "iopub.execute_input": "2024-02-05T15:02:21.368087Z",
     "iopub.status.busy": "2024-02-05T15:02:21.367657Z",
     "iopub.status.idle": "2024-02-05T15:02:21.408758Z",
     "shell.execute_reply": "2024-02-05T15:02:21.407576Z"
    },
    "papermill": {
     "duration": 0.049392,
     "end_time": "2024-02-05T15:02:21.411353",
     "exception": false,
     "start_time": "2024-02-05T15:02:21.361961",
     "status": "completed"
    },
    "tags": []
   },
   "outputs": [
    {
     "data": {
      "text/plain": [
       "password    0\n",
       "strength    0\n",
       "dtype: int64"
      ]
     },
     "execution_count": 7,
     "metadata": {},
     "output_type": "execute_result"
    }
   ],
   "source": [
    "data.isnull().sum()"
   ]
  },
  {
   "cell_type": "markdown",
   "id": "2256a04a",
   "metadata": {
    "papermill": {
     "duration": 0.004239,
     "end_time": "2024-02-05T15:02:21.420203",
     "exception": false,
     "start_time": "2024-02-05T15:02:21.415964",
     "status": "completed"
    },
    "tags": []
   },
   "source": []
  }
 ],
 "metadata": {
  "kaggle": {
   "accelerator": "none",
   "dataSources": [
    {
     "datasetId": 2872683,
     "sourceId": 4953789,
     "sourceType": "datasetVersion"
    },
    {
     "datasetId": 4402909,
     "sourceId": 7561460,
     "sourceType": "datasetVersion"
    }
   ],
   "dockerImageVersionId": 30646,
   "isGpuEnabled": false,
   "isInternetEnabled": true,
   "language": "python",
   "sourceType": "notebook"
  },
  "kernelspec": {
   "display_name": "Python 3",
   "language": "python",
   "name": "python3"
  },
  "language_info": {
   "codemirror_mode": {
    "name": "ipython",
    "version": 3
   },
   "file_extension": ".py",
   "mimetype": "text/x-python",
   "name": "python",
   "nbconvert_exporter": "python",
   "pygments_lexer": "ipython3",
   "version": "3.10.13"
  },
  "papermill": {
   "default_parameters": {},
   "duration": 7.299708,
   "end_time": "2024-02-05T15:02:22.045761",
   "environment_variables": {},
   "exception": null,
   "input_path": "__notebook__.ipynb",
   "output_path": "__notebook__.ipynb",
   "parameters": {},
   "start_time": "2024-02-05T15:02:14.746053",
   "version": "2.5.0"
  }
 },
 "nbformat": 4,
 "nbformat_minor": 5
}
